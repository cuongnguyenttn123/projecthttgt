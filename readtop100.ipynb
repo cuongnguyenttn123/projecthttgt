{
 "cells": [
  {
   "cell_type": "code",
   "execution_count": 183,
   "metadata": {},
   "outputs": [],
   "source": [
    "import numpy as np\n",
    "import pandas as pd\n",
    "from pandas import ExcelWriter\n",
    "from pandas import ExcelFile\n",
    "import matplotlib as mp\n",
    "import matplotlib.pyplot as plt\n",
    "import seaborn as sns\n",
    "%matplotlib inline"
   ]
  },
  {
   "cell_type": "markdown",
   "metadata": {},
   "source": [
    "# Top 100 người giàu nhất thế giới hiện nay – 2017\n",
    "\n",
    "Nguồn bài viết: https://cacnuoc.vn/tin/top-100-nguoi-giau-nhat-the-gioi/"
   ]
  },
  {
   "cell_type": "code",
   "execution_count": 184,
   "metadata": {},
   "outputs": [
    {
     "name": "stdout",
     "output_type": "stream",
     "text": [
      "<class 'pandas.core.frame.DataFrame'>\n",
      "RangeIndex: 100 entries, 0 to 99\n",
      "Data columns (total 6 columns):\n",
      "rank           100 non-null object\n",
      "name           100 non-null object\n",
      "totalassets    100 non-null float64\n",
      "age            100 non-null object\n",
      "company        100 non-null object\n",
      "national       100 non-null object\n",
      "dtypes: float64(1), object(5)\n",
      "memory usage: 2.8+ KB\n"
     ]
    }
   ],
   "source": [
    "top100 = pd.read_csv('top100people12345.csv')\n",
    "top100.info()"
   ]
  },
  {
   "cell_type": "code",
   "execution_count": 185,
   "metadata": {},
   "outputs": [
    {
     "data": {
      "text/html": [
       "<div>\n",
       "<style scoped>\n",
       "    .dataframe tbody tr th:only-of-type {\n",
       "        vertical-align: middle;\n",
       "    }\n",
       "\n",
       "    .dataframe tbody tr th {\n",
       "        vertical-align: top;\n",
       "    }\n",
       "\n",
       "    .dataframe thead th {\n",
       "        text-align: right;\n",
       "    }\n",
       "</style>\n",
       "<table border=\"1\" class=\"dataframe\">\n",
       "  <thead>\n",
       "    <tr style=\"text-align: right;\">\n",
       "      <th></th>\n",
       "      <th>rank</th>\n",
       "      <th>name</th>\n",
       "      <th>totalassets</th>\n",
       "      <th>age</th>\n",
       "      <th>company</th>\n",
       "      <th>national</th>\n",
       "    </tr>\n",
       "  </thead>\n",
       "  <tbody>\n",
       "    <tr>\n",
       "      <th>0</th>\n",
       "      <td>#1</td>\n",
       "      <td>Bill Gates</td>\n",
       "      <td>89.3</td>\n",
       "      <td>61</td>\n",
       "      <td>Microsoft</td>\n",
       "      <td>Hoa Kỳ</td>\n",
       "    </tr>\n",
       "    <tr>\n",
       "      <th>1</th>\n",
       "      <td>#2</td>\n",
       "      <td>Jeff Bezos</td>\n",
       "      <td>84.1</td>\n",
       "      <td>53</td>\n",
       "      <td>Amazon.com</td>\n",
       "      <td>Hoa Kỳ</td>\n",
       "    </tr>\n",
       "    <tr>\n",
       "      <th>2</th>\n",
       "      <td>#3</td>\n",
       "      <td>Amancio Ortega</td>\n",
       "      <td>84.0</td>\n",
       "      <td>81</td>\n",
       "      <td>Zara</td>\n",
       "      <td>Tây Ban Nha</td>\n",
       "    </tr>\n",
       "    <tr>\n",
       "      <th>3</th>\n",
       "      <td>#4</td>\n",
       "      <td>Warren Buffett</td>\n",
       "      <td>76.6</td>\n",
       "      <td>86</td>\n",
       "      <td>Berkshire Hathaway</td>\n",
       "      <td>Hoa Kỳ</td>\n",
       "    </tr>\n",
       "    <tr>\n",
       "      <th>4</th>\n",
       "      <td>#5</td>\n",
       "      <td>Carlos Slim Helu</td>\n",
       "      <td>64.8</td>\n",
       "      <td>77</td>\n",
       "      <td>viễn thông</td>\n",
       "      <td>Mexico</td>\n",
       "    </tr>\n",
       "    <tr>\n",
       "      <th>5</th>\n",
       "      <td>#6</td>\n",
       "      <td>Mark Zuckerberg</td>\n",
       "      <td>62.9</td>\n",
       "      <td>33</td>\n",
       "      <td>Facebook</td>\n",
       "      <td>Hoa Kỳ</td>\n",
       "    </tr>\n",
       "    <tr>\n",
       "      <th>6</th>\n",
       "      <td>#7</td>\n",
       "      <td>Larry Ellison</td>\n",
       "      <td>55.5</td>\n",
       "      <td>72</td>\n",
       "      <td>phần mềm</td>\n",
       "      <td>Hoa Kỳ</td>\n",
       "    </tr>\n",
       "    <tr>\n",
       "      <th>7</th>\n",
       "      <td>#8</td>\n",
       "      <td>Bernard Arnault</td>\n",
       "      <td>54.1</td>\n",
       "      <td>68</td>\n",
       "      <td>LVMH</td>\n",
       "      <td>Pháp</td>\n",
       "    </tr>\n",
       "    <tr>\n",
       "      <th>8</th>\n",
       "      <td>#9</td>\n",
       "      <td>Michael Bloomberg</td>\n",
       "      <td>51.3</td>\n",
       "      <td>75</td>\n",
       "      <td>Bloomberg LP</td>\n",
       "      <td>Hoa Kỳ</td>\n",
       "    </tr>\n",
       "    <tr>\n",
       "      <th>9</th>\n",
       "      <td>#10</td>\n",
       "      <td>Charles Koch</td>\n",
       "      <td>47.8</td>\n",
       "      <td>81</td>\n",
       "      <td>đa dạng</td>\n",
       "      <td>Hoa Kỳ</td>\n",
       "    </tr>\n",
       "  </tbody>\n",
       "</table>\n",
       "</div>"
      ],
      "text/plain": [
       "  rank               name  totalassets age             company     national\n",
       "0   #1         Bill Gates         89.3  61           Microsoft       Hoa Kỳ\n",
       "1   #2         Jeff Bezos         84.1  53          Amazon.com       Hoa Kỳ\n",
       "2   #3     Amancio Ortega         84.0  81                Zara  Tây Ban Nha\n",
       "3   #4     Warren Buffett         76.6  86  Berkshire Hathaway       Hoa Kỳ\n",
       "4   #5   Carlos Slim Helu         64.8  77          viễn thông       Mexico\n",
       "5   #6    Mark Zuckerberg         62.9  33            Facebook       Hoa Kỳ\n",
       "6   #7      Larry Ellison         55.5  72            phần mềm       Hoa Kỳ\n",
       "7   #8    Bernard Arnault         54.1  68                LVMH         Pháp\n",
       "8   #9  Michael Bloomberg         51.3  75        Bloomberg LP       Hoa Kỳ\n",
       "9  #10       Charles Koch         47.8  81             đa dạng       Hoa Kỳ"
      ]
     },
     "execution_count": 185,
     "metadata": {},
     "output_type": "execute_result"
    }
   ],
   "source": [
    "top100.head(10)"
   ]
  },
  {
   "cell_type": "markdown",
   "metadata": {},
   "source": [
    "Năm 2017 Bill Gates là người giàu nhất hành tinh với giá trị tài sản đạt 89.3 tỉ đô la Mỹ."
   ]
  },
  {
   "cell_type": "code",
   "execution_count": 186,
   "metadata": {},
   "outputs": [],
   "source": [
    "#top100['national']\n",
    "df = pd.DataFrame(top100)"
   ]
  },
  {
   "cell_type": "markdown",
   "metadata": {},
   "source": [
    "# Thống Kê Các Nước Có Nhiều Tỷ Phú Nhất"
   ]
  },
  {
   "cell_type": "code",
   "execution_count": 187,
   "metadata": {},
   "outputs": [
    {
     "data": {
      "text/html": [
       "<div>\n",
       "<style scoped>\n",
       "    .dataframe tbody tr th:only-of-type {\n",
       "        vertical-align: middle;\n",
       "    }\n",
       "\n",
       "    .dataframe tbody tr th {\n",
       "        vertical-align: top;\n",
       "    }\n",
       "\n",
       "    .dataframe thead th {\n",
       "        text-align: right;\n",
       "    }\n",
       "</style>\n",
       "<table border=\"1\" class=\"dataframe\">\n",
       "  <thead>\n",
       "    <tr style=\"text-align: right;\">\n",
       "      <th></th>\n",
       "      <th>rank</th>\n",
       "      <th>name</th>\n",
       "      <th>totalassets</th>\n",
       "      <th>age</th>\n",
       "      <th>company</th>\n",
       "    </tr>\n",
       "    <tr>\n",
       "      <th>national</th>\n",
       "      <th></th>\n",
       "      <th></th>\n",
       "      <th></th>\n",
       "      <th></th>\n",
       "      <th></th>\n",
       "    </tr>\n",
       "  </thead>\n",
       "  <tbody>\n",
       "    <tr>\n",
       "      <th>Hoa Kỳ</th>\n",
       "      <td>32</td>\n",
       "      <td>32</td>\n",
       "      <td>32</td>\n",
       "      <td>32</td>\n",
       "      <td>32</td>\n",
       "    </tr>\n",
       "    <tr>\n",
       "      <th>Nga</th>\n",
       "      <td>9</td>\n",
       "      <td>9</td>\n",
       "      <td>9</td>\n",
       "      <td>9</td>\n",
       "      <td>9</td>\n",
       "    </tr>\n",
       "    <tr>\n",
       "      <th>Đức</th>\n",
       "      <td>8</td>\n",
       "      <td>8</td>\n",
       "      <td>8</td>\n",
       "      <td>8</td>\n",
       "      <td>8</td>\n",
       "    </tr>\n",
       "    <tr>\n",
       "      <th>Trung Quốc</th>\n",
       "      <td>8</td>\n",
       "      <td>8</td>\n",
       "      <td>8</td>\n",
       "      <td>8</td>\n",
       "      <td>8</td>\n",
       "    </tr>\n",
       "    <tr>\n",
       "      <th>Pháp</th>\n",
       "      <td>6</td>\n",
       "      <td>6</td>\n",
       "      <td>6</td>\n",
       "      <td>6</td>\n",
       "      <td>6</td>\n",
       "    </tr>\n",
       "    <tr>\n",
       "      <th>Hồng Kông</th>\n",
       "      <td>5</td>\n",
       "      <td>5</td>\n",
       "      <td>5</td>\n",
       "      <td>5</td>\n",
       "      <td>5</td>\n",
       "    </tr>\n",
       "    <tr>\n",
       "      <th>Brazil</th>\n",
       "      <td>4</td>\n",
       "      <td>4</td>\n",
       "      <td>4</td>\n",
       "      <td>4</td>\n",
       "      <td>4</td>\n",
       "    </tr>\n",
       "    <tr>\n",
       "      <th>Italy</th>\n",
       "      <td>3</td>\n",
       "      <td>3</td>\n",
       "      <td>3</td>\n",
       "      <td>3</td>\n",
       "      <td>3</td>\n",
       "    </tr>\n",
       "    <tr>\n",
       "      <th>Nhật Bản</th>\n",
       "      <td>3</td>\n",
       "      <td>3</td>\n",
       "      <td>3</td>\n",
       "      <td>3</td>\n",
       "      <td>3</td>\n",
       "    </tr>\n",
       "    <tr>\n",
       "      <th>Ấn Độ</th>\n",
       "      <td>3</td>\n",
       "      <td>3</td>\n",
       "      <td>3</td>\n",
       "      <td>3</td>\n",
       "      <td>3</td>\n",
       "    </tr>\n",
       "  </tbody>\n",
       "</table>\n",
       "</div>"
      ],
      "text/plain": [
       "            rank  name  totalassets  age  company\n",
       "national                                         \n",
       "Hoa Kỳ        32    32           32   32       32\n",
       "Nga            9     9            9    9        9\n",
       "Đức            8     8            8    8        8\n",
       "Trung Quốc     8     8            8    8        8\n",
       "Pháp           6     6            6    6        6\n",
       "Hồng Kông      5     5            5    5        5\n",
       "Brazil         4     4            4    4        4\n",
       "Italy          3     3            3    3        3\n",
       "Nhật Bản       3     3            3    3        3\n",
       "Ấn Độ          3     3            3    3        3"
      ]
     },
     "execution_count": 187,
     "metadata": {},
     "output_type": "execute_result"
    }
   ],
   "source": [
    "by_comp = df.groupby(\"national\")\n",
    "cacnuoc = by_comp.count()\n",
    "sortcacnuoc = cacnuoc.sort_values('rank', ascending=False)\n",
    "sortcacnuoc.head(10)"
   ]
  },
  {
   "cell_type": "markdown",
   "metadata": {},
   "source": [
    "Nhìn vào thống kê ta top 100 tỷ phú tới từ 26 quốc gia trên thế giới. Hoa Kỳ là quốc gia có đông tỷ phú nhất trên thế giới với 32 tỷ phú.\n",
    "Thứ 2 là Nga với 9 tỷ phú, Còn Đức và Trung Quốc đứng thứ 3 với 8 tỷ phú"
   ]
  },
  {
   "cell_type": "code",
   "execution_count": 188,
   "metadata": {},
   "outputs": [
    {
     "data": {
      "text/plain": [
       "26"
      ]
     },
     "execution_count": 188,
     "metadata": {},
     "output_type": "execute_result"
    }
   ],
   "source": [
    "len(sortcacnuoc)"
   ]
  },
  {
   "cell_type": "markdown",
   "metadata": {},
   "source": [
    "# Thống Kê Ngành Nghề Có Nhiều Tỷ Phú Nhất"
   ]
  },
  {
   "cell_type": "code",
   "execution_count": 189,
   "metadata": {},
   "outputs": [
    {
     "data": {
      "text/html": [
       "<div>\n",
       "<style scoped>\n",
       "    .dataframe tbody tr th:only-of-type {\n",
       "        vertical-align: middle;\n",
       "    }\n",
       "\n",
       "    .dataframe tbody tr th {\n",
       "        vertical-align: top;\n",
       "    }\n",
       "\n",
       "    .dataframe thead th {\n",
       "        text-align: right;\n",
       "    }\n",
       "</style>\n",
       "<table border=\"1\" class=\"dataframe\">\n",
       "  <thead>\n",
       "    <tr style=\"text-align: right;\">\n",
       "      <th></th>\n",
       "      <th>rank</th>\n",
       "      <th>name</th>\n",
       "      <th>totalassets</th>\n",
       "      <th>age</th>\n",
       "      <th>national</th>\n",
       "    </tr>\n",
       "    <tr>\n",
       "      <th>company</th>\n",
       "      <th></th>\n",
       "      <th></th>\n",
       "      <th></th>\n",
       "      <th></th>\n",
       "      <th></th>\n",
       "    </tr>\n",
       "  </thead>\n",
       "  <tbody>\n",
       "    <tr>\n",
       "      <th>bất động sản</th>\n",
       "      <td>7</td>\n",
       "      <td>7</td>\n",
       "      <td>7</td>\n",
       "      <td>7</td>\n",
       "      <td>7</td>\n",
       "    </tr>\n",
       "    <tr>\n",
       "      <th>đa dạng</th>\n",
       "      <td>6</td>\n",
       "      <td>6</td>\n",
       "      <td>6</td>\n",
       "      <td>6</td>\n",
       "      <td>6</td>\n",
       "    </tr>\n",
       "    <tr>\n",
       "      <th>quỹ đầu tư</th>\n",
       "      <td>4</td>\n",
       "      <td>4</td>\n",
       "      <td>4</td>\n",
       "      <td>4</td>\n",
       "      <td>4</td>\n",
       "    </tr>\n",
       "    <tr>\n",
       "      <th>khai thác mỏ</th>\n",
       "      <td>3</td>\n",
       "      <td>3</td>\n",
       "      <td>3</td>\n",
       "      <td>3</td>\n",
       "      <td>3</td>\n",
       "    </tr>\n",
       "    <tr>\n",
       "      <th>Wal-Mart</th>\n",
       "      <td>3</td>\n",
       "      <td>3</td>\n",
       "      <td>3</td>\n",
       "      <td>3</td>\n",
       "      <td>3</td>\n",
       "    </tr>\n",
       "  </tbody>\n",
       "</table>\n",
       "</div>"
      ],
      "text/plain": [
       "              rank  name  totalassets  age  national\n",
       "company                                             \n",
       "bất động sản     7     7            7    7         7\n",
       "đa dạng          6     6            6    6         6\n",
       "quỹ đầu tư       4     4            4    4         4\n",
       "khai thác mỏ     3     3            3    3         3\n",
       "Wal-Mart         3     3            3    3         3"
      ]
     },
     "execution_count": 189,
     "metadata": {},
     "output_type": "execute_result"
    }
   ],
   "source": [
    "company = df.groupby(\"company\")\n",
    "company = company.count()\n",
    "sortcompany = company.sort_values('rank', ascending=False)\n",
    "sortcompany.head(5)"
   ]
  },
  {
   "cell_type": "markdown",
   "metadata": {},
   "source": [
    "Bất động sản là ngành có số lượng tỷ phú nhiều nhất với 7 người,tiếp theo là đa dạng ngành nghề sản phẩm, quỹ đầu tư và khai thác mỏ"
   ]
  },
  {
   "cell_type": "markdown",
   "metadata": {},
   "source": [
    "# Các tỷ phú các tuổi nhỏ hơn 55"
   ]
  },
  {
   "cell_type": "code",
   "execution_count": 190,
   "metadata": {},
   "outputs": [],
   "source": [
    "age = df.groupby(\"age\")\n",
    "age = age.count()\n",
    "sortage = age.sort_values('age', ascending=True)"
   ]
  },
  {
   "cell_type": "code",
   "execution_count": 208,
   "metadata": {
    "scrolled": true
   },
   "outputs": [
    {
     "data": {
      "text/html": [
       "<div>\n",
       "<style scoped>\n",
       "    .dataframe tbody tr th:only-of-type {\n",
       "        vertical-align: middle;\n",
       "    }\n",
       "\n",
       "    .dataframe tbody tr th {\n",
       "        vertical-align: top;\n",
       "    }\n",
       "\n",
       "    .dataframe thead th {\n",
       "        text-align: right;\n",
       "    }\n",
       "</style>\n",
       "<table border=\"1\" class=\"dataframe\">\n",
       "  <thead>\n",
       "    <tr style=\"text-align: right;\">\n",
       "      <th></th>\n",
       "      <th>rank</th>\n",
       "      <th>name</th>\n",
       "      <th>totalassets</th>\n",
       "      <th>company</th>\n",
       "      <th>national</th>\n",
       "    </tr>\n",
       "    <tr>\n",
       "      <th>age</th>\n",
       "      <th></th>\n",
       "      <th></th>\n",
       "      <th></th>\n",
       "      <th></th>\n",
       "      <th></th>\n",
       "    </tr>\n",
       "  </thead>\n",
       "  <tbody>\n",
       "    <tr>\n",
       "      <th>33</th>\n",
       "      <td>1</td>\n",
       "      <td>1</td>\n",
       "      <td>1</td>\n",
       "      <td>1</td>\n",
       "      <td>1</td>\n",
       "    </tr>\n",
       "    <tr>\n",
       "      <th>35</th>\n",
       "      <td>1</td>\n",
       "      <td>1</td>\n",
       "      <td>1</td>\n",
       "      <td>1</td>\n",
       "      <td>1</td>\n",
       "    </tr>\n",
       "    <tr>\n",
       "      <th>43</th>\n",
       "      <td>1</td>\n",
       "      <td>1</td>\n",
       "      <td>1</td>\n",
       "      <td>1</td>\n",
       "      <td>1</td>\n",
       "    </tr>\n",
       "    <tr>\n",
       "      <th>44</th>\n",
       "      <td>1</td>\n",
       "      <td>1</td>\n",
       "      <td>1</td>\n",
       "      <td>1</td>\n",
       "      <td>1</td>\n",
       "    </tr>\n",
       "    <tr>\n",
       "      <th>45</th>\n",
       "      <td>3</td>\n",
       "      <td>3</td>\n",
       "      <td>3</td>\n",
       "      <td>3</td>\n",
       "      <td>3</td>\n",
       "    </tr>\n",
       "    <tr>\n",
       "      <th>46</th>\n",
       "      <td>2</td>\n",
       "      <td>2</td>\n",
       "      <td>2</td>\n",
       "      <td>2</td>\n",
       "      <td>2</td>\n",
       "    </tr>\n",
       "    <tr>\n",
       "      <th>51</th>\n",
       "      <td>2</td>\n",
       "      <td>2</td>\n",
       "      <td>2</td>\n",
       "      <td>2</td>\n",
       "      <td>2</td>\n",
       "    </tr>\n",
       "    <tr>\n",
       "      <th>52</th>\n",
       "      <td>3</td>\n",
       "      <td>3</td>\n",
       "      <td>3</td>\n",
       "      <td>3</td>\n",
       "      <td>3</td>\n",
       "    </tr>\n",
       "    <tr>\n",
       "      <th>53</th>\n",
       "      <td>5</td>\n",
       "      <td>5</td>\n",
       "      <td>5</td>\n",
       "      <td>5</td>\n",
       "      <td>5</td>\n",
       "    </tr>\n",
       "    <tr>\n",
       "      <th>55</th>\n",
       "      <td>2</td>\n",
       "      <td>2</td>\n",
       "      <td>2</td>\n",
       "      <td>2</td>\n",
       "      <td>2</td>\n",
       "    </tr>\n",
       "  </tbody>\n",
       "</table>\n",
       "</div>"
      ],
      "text/plain": [
       "     rank  name  totalassets  company  national\n",
       "age                                            \n",
       "33      1     1            1        1         1\n",
       "35      1     1            1        1         1\n",
       "43      1     1            1        1         1\n",
       "44      1     1            1        1         1\n",
       "45      3     3            3        3         3\n",
       "46      2     2            2        2         2\n",
       "51      2     2            2        2         2\n",
       "52      3     3            3        3         3\n",
       "53      5     5            5        5         5\n",
       "55      2     2            2        2         2"
      ]
     },
     "execution_count": 208,
     "metadata": {},
     "output_type": "execute_result"
    }
   ],
   "source": [
    "sortage.head(10)"
   ]
  },
  {
   "cell_type": "markdown",
   "metadata": {},
   "source": [
    "Có 21 tỷ phú có tuổi nhỏ hơn 55 tuổi."
   ]
  },
  {
   "cell_type": "code",
   "execution_count": 209,
   "metadata": {},
   "outputs": [],
   "source": [
    "sum1 = top100['totalassets'].sum()\n",
    "#print('Tổng tài sản 100 người giàu nhất thế giới là: ',sum1, ' tỷ USD')\n",
    "my = top100[top100['national']=='Hoa Kỳ']\n",
    "my = my['totalassets'].sum()\n",
    "x = (my/sum1)*100\n",
    "#print('Trong đó giới tỷ phú Hoa Kỳ có tổng tài sản là: ',my, ' tỷ USD, chiếm: ', x, '%')\n"
   ]
  },
  {
   "cell_type": "code",
   "execution_count": 205,
   "metadata": {},
   "outputs": [
    {
     "data": {
      "image/png": "[encoded data removed]",
      "text/plain": [
       "<Figure size 360x576 with 1 Axes>"
      ]
     },
     "metadata": {
      "needs_background": "light"
     },
     "output_type": "display_data"
    }
   ],
   "source": [
    "fig, ax1 = plt.subplots(figsize=(5,8))\n",
    "ax1.bar(['Hoa Kỳ', 'Top100'],[my, sum1], color=\"blue\")\n",
    "\n",
    "ax1.set_ylabel(r\"Tổng USD\", fontsize=18, color=\"blue\")\n",
    "for label in ax1.get_yticklabels():\n",
    "    label.set_color(\"blue\")"
   ]
  },
  {
   "cell_type": "markdown",
   "metadata": {},
   "source": [
    "Tổng tài sản 100 người giàu nhất thế giới là:  2543.8  tỷ USD\n"
   ]
  },
  {
   "cell_type": "markdown",
   "metadata": {},
   "source": [
    "Trong đó giới tỷ phú Hoa Kỳ có tổng tài sản là:  1109.2  tỷ USD, chiếm:  43.64 %"
   ]
  },
  {
   "cell_type": "code",
   "execution_count": null,
   "metadata": {},
   "outputs": [],
   "source": []
  },
  {
   "cell_type": "code",
   "execution_count": null,
   "metadata": {},
   "outputs": [],
   "source": []
  }
 ],
 "metadata": {
  "kernelspec": {
   "display_name": "Python 3",
   "language": "python",
   "name": "python3"
  },
  "language_info": {
   "codemirror_mode": {
    "name": "ipython",
    "version": 3
   },
   "file_extension": ".py",
   "mimetype": "text/x-python",
   "name": "python",
   "nbconvert_exporter": "python",
   "pygments_lexer": "ipython3",
   "version": "3.7.2"
  }
 },
 "nbformat": 4,
 "nbformat_minor": 2
}
